{
 "cells": [
  {
   "cell_type": "code",
   "execution_count": 1,
   "id": "5a24fd62-573b-4af7-9442-d70cd1d7726c",
   "metadata": {
    "tags": []
   },
   "outputs": [],
   "source": [
    "\n",
    "from pathlib import Path\n",
    "import csv"
   ]
  },
  {
   "cell_type": "code",
   "execution_count": 2,
   "id": "7cf27245-7f6e-4014-a6be-4d49aa92a324",
   "metadata": {
    "tags": []
   },
   "outputs": [],
   "source": [
    "csv_path= Path(\"../PyBank/Resources/budget_data.csv\") # imported resource file"
   ]
  },
  {
   "cell_type": "code",
   "execution_count": 54,
   "id": "afc388fb-35c4-4c46-9aef-371a00f57046",
   "metadata": {
    "tags": []
   },
   "outputs": [
    {
     "name": "stdout",
     "output_type": "stream",
     "text": [
      "Financial Analysis\n",
      "\n",
      "------------------------------------------------------------\n",
      "\n",
      " Total Months:   86\n",
      "\n",
      " Total amount of Profit/Loss over the Period:   $ 38382578\n",
      "\n",
      " Average change in Profit/Loss over the Period:  $-2315.12\n",
      "\n",
      " Greatest increase in profit:  Feb-2012    $ (1926159)\n",
      "\n",
      " Greates decrease in profit:    Sep-2013     $(-2196167)\n",
      "\n"
     ]
    }
   ],
   "source": [
    "# Intialize variables for total number of months, total change in profit/Loss & avg change.\n",
    "\n",
    "\n",
    "months_count=0\n",
    "total_profit_loss=0  \n",
    "change_in_profit=0\n",
    "total_change=0\n",
    "avg_change=0\n",
    "previous_profit=0 \n",
    "\n",
    "\n",
    "# intialize empty list to contain updated data including change in profit/loss\n",
    "new_budget=[]\n",
    "\n",
    "with open(csv_path,\"r\") as csv_file:\n",
    "    \n",
    "    csv_reader=csv.reader(csv_file,delimiter=\",\")\n",
    "    csv_header=next(csv_reader)\n",
    "    csv_header.append(\"ProfitLoss_change\")\n",
    "    \n",
    "    #iterate through budget file to append monthly prfit/loss change in new list and find total profit/loss over the period\n",
    "    for rows in csv_reader:\n",
    "        months=rows[0]\n",
    "        current_month=int(rows[1])\n",
    "        \n",
    "        if previous_profit==0:\n",
    "            rows.append(0)\n",
    "            new_budget.append(rows)\n",
    "            previous_profit=current_month\n",
    "        else:\n",
    "            change_in_profit=(current_month)-(previous_profit)\n",
    "            previous_profit=current_month\n",
    "            rows.append(change_in_profit)   \n",
    "            new_budget.append(rows)   #store these monthly changes in a list\n",
    "            \n",
    "        months_count+=1\n",
    "        total_profit_loss+=current_month\n",
    "        total_change+=change_in_profit\n",
    "        \n",
    "\n",
    "    maximum_profit_change=0\n",
    "    maximum_loss_change=0\n",
    "    max_month=\"\"\n",
    "    min_month=\"\"          \n",
    "    month=\"\"       \n",
    "    \n",
    "  # iterate through the newly created list(new_budget) to find max profit/Loss change and their respective months from above created list\n",
    "    for lines in new_budget:\n",
    "        month=lines[0]\n",
    "        change_in_profit=lines[2]\n",
    "    \n",
    "        if maximum_profit_change==0:\n",
    "            maximum_profit_change=change_in_profit\n",
    "        elif change_in_profit>maximum_profit_change:\n",
    "            maximum_profit_change=change_in_profit\n",
    "            max_month=month\n",
    "        elif change_in_profit<maximum_loss_change:\n",
    "            maximum_loss_change=change_in_profit\n",
    "            min_month=month\n",
    "         \n",
    " # avg change in profit/loss           \n",
    "avg_change=round(total_change/(months_count-1),2) \n",
    "\n",
    "# print output\n",
    "\n",
    "print(\"Financial Analysis\\n\")\n",
    "print(\"------------------------------------------------------------\\n\")\n",
    "print(f\" Total Months:   {months_count}\\n\")\n",
    "print(f\" Total amount of Profit/Loss over the Period:   $ {total_profit_loss}\\n\")\n",
    "print(f\" Average change in Profit/Loss over the Period:  ${avg_profitloss_change}\\n\")\n",
    "print(f\" Greatest increase in profit:  {max_month}    $ ({maximum_profit_change})\\n\")\n",
    "print(f\" Greates decrease in profit:    {min_month}     $({maximum_loss_change})\\n\")\n",
    "\n",
    "# export ouput in a text file\n",
    "with open(output_path, \"w\") as new_file:\n",
    "    new_file.write(\"Financial Analysis\\n\")\n",
    "    new_file.write(\"--------------------------------------------------\\n\")\n",
    "    new_file.write(f\" Total Months:   {months_count}\\n\")\n",
    "    new_file.write(f\" Total amount of Profit/Loss over the Period:   $ {total_profit_loss}\\n\")\n",
    "    new_file.write(f\" Average change in Profit/Loss over the Period:  ${avg_profitloss_change}\\n\")\n",
    "    new_file.write(f\" Greatest increase in profit:  {max_month}    $ ({maximum_profit_change})\\n\")\n",
    "    new_file.write(f\" Greates decrease in profit:    {min_mont}     $({maximum_loss_change})\\n\")\n",
    "   \n",
    "        \n",
    "        \n",
    "    "
   ]
  },
  {
   "cell_type": "code",
   "execution_count": null,
   "id": "514ff6bf-951f-4743-a028-195ec51f3276",
   "metadata": {},
   "outputs": [],
   "source": []
  }
 ],
 "metadata": {
  "kernelspec": {
   "display_name": "Python 3 (ipykernel)",
   "language": "python",
   "name": "python3"
  },
  "language_info": {
   "codemirror_mode": {
    "name": "ipython",
    "version": 3
   },
   "file_extension": ".py",
   "mimetype": "text/x-python",
   "name": "python",
   "nbconvert_exporter": "python",
   "pygments_lexer": "ipython3",
   "version": "3.10.13"
  }
 },
 "nbformat": 4,
 "nbformat_minor": 5
}
