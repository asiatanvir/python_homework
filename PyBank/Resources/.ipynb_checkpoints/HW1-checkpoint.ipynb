{
 "cells": [
  {
   "cell_type": "code",
   "execution_count": 1,
   "id": "17a3cba4-429e-4d91-ad3e-08ddfefe390a",
   "metadata": {
    "tags": []
   },
   "outputs": [],
   "source": [
    "from pathlib import Path\n",
    "import csv\n"
   ]
  },
  {
   "cell_type": "code",
   "execution_count": 2,
   "id": "4c7fbff9-a4b7-4b91-a6f4-ffdbe9df46cb",
   "metadata": {
    "tags": []
   },
   "outputs": [],
   "source": [
    "csv_input_path=Path(\"../Resources/budget_data.csv\")\n"
   ]
  },
  {
   "cell_type": "code",
   "execution_count": 22,
   "id": "d57f62b0-db9c-419e-aeda-284dd94192be",
   "metadata": {
    "tags": []
   },
   "outputs": [
    {
     "name": "stdout",
     "output_type": "stream",
     "text": [
      "38382578\n",
      "86\n",
      "-196785\n",
      "-2315.1176470588234\n",
      "[['Date', 'Profit/Losses', 'Profit_change'], ['Jan-2010', '867884', 0], ['Feb-2010', '984655', 116771], ['Mar-2010', '322013', -662642], ['Apr-2010', '-69417', -391430], ['May-2010', '310503', 379920], ['Jun-2010', '522857', 212354], ['Jul-2010', '1033096', 510239], ['Aug-2010', '604885', -428211], ['Sep-2010', '-216386', -821271], ['Oct-2010', '477532', 693918], ['Nov-2010', '893810', 416278], ['Dec-2010', '-80353', -974163], ['Jan-2011', '779806', 860159], ['Feb-2011', '-335203', -1115009], ['Mar-2011', '697845', 1033048], ['Apr-2011', '793163', 95318], ['May-2011', '485070', -308093], ['Jun-2011', '584122', 99052], ['Jul-2011', '62729', -521393], ['Aug-2011', '668179', 605450], ['Sep-2011', '899906', 231727], ['Oct-2011', '834719', -65187], ['Nov-2011', '132003', -702716], ['Dec-2011', '309978', 177975], ['Jan-2012', '-755566', -1065544], ['Feb-2012', '1170593', 1926159], ['Mar-2012', '252788', -917805], ['Apr-2012', '1151518', 898730], ['May-2012', '817256', -334262], ['Jun-2012', '570757', -246499], ['Jul-2012', '506702', -64055], ['Aug-2012', '-1022534', -1529236], ['Sep-2012', '475062', 1497596], ['Oct-2012', '779976', 304914], ['Nov-2012', '144175', -635801], ['Dec-2012', '542494', 398319], ['Jan-2013', '359333', -183161], ['Feb-2013', '321469', -37864], ['Mar-2013', '67780', -253689], ['Apr-2013', '471435', 403655], ['May-2013', '565603', 94168], ['Jun-2013', '872480', 306877], ['Jul-2013', '789480', -83000], ['Aug-2013', '999942', 210462], ['Sep-2013', '-1196225', -2196167], ['Oct-2013', '268997', 1465222], ['Nov-2013', '-687986', -956983], ['Dec-2013', '1150461', 1838447], ['Jan-2014', '682458', -468003], ['Feb-2014', '617856', -64602], ['Mar-2014', '824098', 206242], ['Apr-2014', '581943', -242155], ['May-2014', '132864', -449079], ['Jun-2014', '448062', 315198], ['Jul-2014', '689161', 241099], ['Aug-2014', '800701', 111540], ['Sep-2014', '1166643', 365942], ['Oct-2014', '947333', -219310], ['Nov-2014', '578668', -368665], ['Dec-2014', '988505', 409837], ['Jan-2015', '1139715', 151210], ['Feb-2015', '1029471', -110244], ['Mar-2015', '687533', -341938], ['Apr-2015', '-524626', -1212159], ['May-2015', '158620', 683246], ['Jun-2015', '87795', -70825], ['Jul-2015', '423389', 335594], ['Aug-2015', '840723', 417334], ['Sep-2015', '568529', -272194], ['Oct-2015', '332067', -236462], ['Nov-2015', '989499', 657432], ['Dec-2015', '778237', -211262], ['Jan-2016', '650000', -128237], ['Feb-2016', '-1100387', -1750387], ['Mar-2016', '-174946', 925441], ['Apr-2016', '757143', 932089], ['May-2016', '445709', -311434], ['Jun-2016', '712961', 267252], ['Jul-2016', '-1163797', -1876758], ['Aug-2016', '569899', 1733696], ['Sep-2016', '768450', 198551], ['Oct-2016', '102685', -665765], ['Nov-2016', '795914', 693229], ['Dec-2016', '60988', -734926], ['Jan-2017', '138230', 77242], ['Feb-2017', '671099', 532869]]\n"
     ]
    }
   ],
   "source": [
    "records=[]\n",
    "total_Profit_loss=0\n",
    "change_in_profit=0\n",
    "previous_profit=0\n",
    "total_change=0\n",
    "count=0\n",
    "max_profit=0\n",
    "min_profit=0\n",
    "\n",
    "with open(csv_input_path, \"r\") as csv_file:\n",
    "    csv_reader=csv.reader(csv_file, delimiter=\",\")\n",
    "\n",
    "    csv_header = next(csv_reader)\n",
    "   \n",
    "    #print(csv_header)\n",
    "\n",
    "    csv_header.append(\"Profit_change\")\n",
    "   \n",
    "    records.append(csv_header)\n",
    "\n",
    "    for row in csv_reader:\n",
    "       \n",
    "        #print(row)\n",
    "        month = row[0]\n",
    "        profit_loss = int(row[1])\n",
    "        \n",
    "\n",
    "        total_Profit_loss+=profit_loss\n",
    "        count+=1\n",
    "        \n",
    "        if previous_profit==0:\n",
    "            previous_profit=profit_loss\n",
    "            row.append(0)\n",
    "            records.append(row)\n",
    "        else:\n",
    "           # print(profit_loss)\n",
    "           # print(previous_profit)\n",
    "            #print(change_in_profit)\n",
    "            change_in_profit=profit_loss-previous_profit\n",
    "            previous_profit=profit_loss\n",
    "            total_change+=change_in_profit\n",
    "            row.append(change_in_profit)\n",
    "            records.append(row)\n",
    "            \n",
    "        \n",
    "        \n",
    "    #for row in csv_reader:\n",
    "        \n",
    "    avg_change=total_change/(count-1)\n",
    "\n",
    "    print(total_Profit_loss)\n",
    "    print(count)\n",
    "    print(total_change)\n",
    "    print(avg_change)\n",
    "    #print(records)\n",
    "       # row.append(average)\n",
    "        #row.append(growth)\n",
    "        #records.append(row)\n",
    "\n",
    "\n",
    "    \n"
   ]
  },
  {
   "cell_type": "code",
   "execution_count": null,
   "id": "0ff2c042-9d8d-4912-b489-d34ec42111c0",
   "metadata": {},
   "outputs": [],
   "source": []
  },
  {
   "cell_type": "code",
   "execution_count": null,
   "id": "0472a0c8-0173-4f39-b22d-87a94c99d933",
   "metadata": {},
   "outputs": [],
   "source": [
    "for change in record:"
   ]
  }
 ],
 "metadata": {
  "kernelspec": {
   "display_name": "Python 3 (ipykernel)",
   "language": "python",
   "name": "python3"
  },
  "language_info": {
   "codemirror_mode": {
    "name": "ipython",
    "version": 3
   },
   "file_extension": ".py",
   "mimetype": "text/x-python",
   "name": "python",
   "nbconvert_exporter": "python",
   "pygments_lexer": "ipython3",
   "version": "3.10.13"
  }
 },
 "nbformat": 4,
 "nbformat_minor": 5
}
