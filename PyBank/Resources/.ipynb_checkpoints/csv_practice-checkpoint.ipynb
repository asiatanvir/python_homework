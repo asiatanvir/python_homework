{
 "cells": [
  {
   "cell_type": "code",
   "execution_count": 1,
   "id": "c1a97c32-c38e-4390-aa89-58d9b8485553",
   "metadata": {
    "tags": []
   },
   "outputs": [
    {
     "name": "stdout",
     "output_type": "stream",
     "text": [
      "..\\Resources\\budget_data.csv\n"
     ]
    }
   ],
   "source": [
    "from pathlib import Path\n",
    "\n",
    "import csv\n",
    "\n",
    "# csv_input_path is just a variable name. we are getting the path of csv in a variable.\n",
    "\n",
    "csv_input_path= Path(\"../Resources/budget_data.csv\")\n",
    "\n",
    "print(csv_input_path)\n",
    "\n"
   ]
  },
  {
   "cell_type": "code",
   "execution_count": 2,
   "id": "6945c065-d802-484f-9458-0651bc931203",
   "metadata": {
    "tags": []
   },
   "outputs": [
    {
     "name": "stdout",
     "output_type": "stream",
     "text": [
      "Feb-2010\n",
      "Mar-2010\n",
      "Apr-2010\n",
      "May-2010\n",
      "Jun-2010\n",
      "Jul-2010\n",
      "Aug-2010\n",
      "Sep-2010\n",
      "Oct-2010\n",
      "Nov-2010\n",
      "Dec-2010\n",
      "Jan-2011\n",
      "Feb-2011\n",
      "Mar-2011\n",
      "Apr-2011\n",
      "May-2011\n",
      "Jun-2011\n",
      "Jul-2011\n",
      "Aug-2011\n",
      "Sep-2011\n",
      "Oct-2011\n",
      "Nov-2011\n",
      "Dec-2011\n",
      "Jan-2012\n",
      "Feb-2012\n",
      "Mar-2012\n",
      "Apr-2012\n",
      "May-2012\n",
      "Jun-2012\n",
      "Jul-2012\n",
      "Aug-2012\n",
      "Sep-2012\n",
      "Oct-2012\n",
      "Nov-2012\n",
      "Dec-2012\n",
      "Jan-2013\n",
      "Feb-2013\n",
      "Mar-2013\n",
      "Apr-2013\n",
      "May-2013\n",
      "Jun-2013\n",
      "Jul-2013\n",
      "Aug-2013\n",
      "Sep-2013\n",
      "Oct-2013\n",
      "Nov-2013\n",
      "Dec-2013\n",
      "Jan-2014\n",
      "Feb-2014\n",
      "Mar-2014\n",
      "Apr-2014\n",
      "May-2014\n",
      "Jun-2014\n",
      "Jul-2014\n",
      "Aug-2014\n",
      "Sep-2014\n",
      "Oct-2014\n",
      "Nov-2014\n",
      "Dec-2014\n",
      "Jan-2015\n",
      "Feb-2015\n",
      "Mar-2015\n",
      "Apr-2015\n",
      "May-2015\n",
      "Jun-2015\n",
      "Jul-2015\n",
      "Aug-2015\n",
      "Sep-2015\n",
      "Oct-2015\n",
      "Nov-2015\n",
      "Dec-2015\n",
      "Jan-2016\n",
      "Feb-2016\n",
      "Mar-2016\n",
      "Apr-2016\n",
      "May-2016\n",
      "Jun-2016\n",
      "Jul-2016\n",
      "Aug-2016\n",
      "Sep-2016\n",
      "Oct-2016\n",
      "Nov-2016\n",
      "Dec-2016\n",
      "Jan-2017\n",
      "Feb-2017\n"
     ]
    }
   ],
   "source": [
    "\n",
    "with open(csv_input_path, 'r') as csv_file: # csv_input_path is the variabel containing path from above. csv_file is another variable containg that reading file\n",
    "    \n",
    "    csv_reader = csv.reader(csv_file, delimiter=',') # csv_reader is a variable\n",
    "    csv_header = next(csv_reader) # csv_header is a variable\n",
    "    next(csv_reader) # it will skip the first heading line\n",
    "    \n",
    "    for line in csv_reader:                # for every line it reads in cvs_reader file print that line.\n",
    "         print(line[0])                    # print(line[1]), it will just print the first column from that line\n",
    "    \n",
    "#print(csv_header)\n",
    "#print(csv_reader)"
   ]
  },
  {
   "cell_type": "markdown",
   "id": "38bf65ad-56b5-41e7-8006-e995c4a6745f",
   "metadata": {},
   "source": [
    "----------------\n"
   ]
  },
  {
   "cell_type": "markdown",
   "id": "22f524c2-51a0-4603-831a-675b49ab6a4d",
   "metadata": {},
   "source": [
    "----------------------------------------------------------"
   ]
  },
  {
   "cell_type": "code",
   "execution_count": 3,
   "id": "83717c3f-a5ec-4db8-b17d-6eb0be75483c",
   "metadata": {
    "tags": []
   },
   "outputs": [],
   "source": [
    "with open(csv_input_path, 'r') as csv_file: # csv_input_path is the variabel containing path from above. csv_file is another variable containg that reading file\n",
    "    \n",
    "    csv_reader = csv.reader(csv_file, delimiter=',') # csv_reader is a variable\n",
    "    csv_header = next(csv_reader) # csv_header is a variable\n",
    "    next(csv_reader) # it will skip the first heading line\n",
    "\n",
    "    csv_output_path = Path('output1.csv')\n",
    "\n",
    "    with open(csv_output_path, 'w') as csv_new_file:\n",
    "    # Set the file object as a csvwriter object\n",
    "         csv_writer = csv.writer(csv_new_file, delimiter=',')\n",
    "    \n",
    "         for line in csv_reader:                       # for every line it reads in cvs_reader file print that line.\n",
    "             csv_writer.writerow(line[1])              # print(line[1]), it will just print the first column from that line\n",
    "    "
   ]
  },
  {
   "cell_type": "code",
   "execution_count": 4,
   "id": "04fcc2bc-1c0f-4c94-b9f7-d4a7e6824c45",
   "metadata": {},
   "outputs": [],
   "source": [
    "# csv Dict\n",
    "\n",
    "with open(csv_input_path, 'r') as csv_file: # csv_input_path is the variabel containing path from above. csv_file is another variable containg that reading file\n",
    "    \n",
    "    csv_reader = csv.DictReader(csv_file) \n",
    "    csv_header = next(csv_reader) \n",
    "    next(csv_reader) \n",
    "    \n",
    "    csv_output_path = Path('output2.csv')\n",
    "\n",
    "    with open(csv_output_path, 'w') as csv_new_file:\n",
    "    # Set the file object as a csvwriter object\n",
    "         csv_writer = csv.writer(csv_new_file, delimiter=',')\n",
    "    \n",
    "         for line in csv_reader:                       # for every line it reads in cvs_reader file print that line.\n",
    "             csv_writer.writerow(line[1])              # print(line[1]), it will just print the first column from that line\n",
    "    "
   ]
  }
 ],
 "metadata": {
  "kernelspec": {
   "display_name": "Python 3 (ipykernel)",
   "language": "python",
   "name": "python3"
  },
  "language_info": {
   "codemirror_mode": {
    "name": "ipython",
    "version": 3
   },
   "file_extension": ".py",
   "mimetype": "text/x-python",
   "name": "python",
   "nbconvert_exporter": "python",
   "pygments_lexer": "ipython3",
   "version": "3.10.13"
  }
 },
 "nbformat": 4,
 "nbformat_minor": 5
}
