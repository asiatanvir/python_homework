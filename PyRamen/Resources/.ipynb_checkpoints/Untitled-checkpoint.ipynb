{
 "cells": [
  {
   "cell_type": "code",
   "execution_count": 1,
   "id": "1f96df5b-0ad9-4868-8250-6530a22bfa52",
   "metadata": {
    "tags": []
   },
   "outputs": [],
   "source": [
    "import csv\n",
    "from pathlib import Path\n",
    "\n",
    "menu_filepath = Path('../Resources/menu_data.csv')\n",
    "sales_filepath = Path('../Resources/sales_data.csv')"
   ]
  },
  {
   "cell_type": "code",
   "execution_count": 2,
   "id": "3774ba03-97ff-4a5f-bf8d-5cae67962446",
   "metadata": {
    "tags": []
   },
   "outputs": [],
   "source": [
    "menu=[]\n",
    "\n",
    "\n",
    "with open(menu_filepath, \"r\") as csv_menu_file:\n",
    "    csv_reader=csv.reader(csv_menu_file, delimiter=',')\n",
    "    csv_header = next(csv_reader)\n",
    "    \n",
    "    for row in csv_reader:\n",
    "        menu.append(row)\n",
    "        \n"
   ]
  },
  {
   "cell_type": "code",
   "execution_count": 3,
   "id": "70b9fda3-446f-44d5-b5ec-f0cd683f1b56",
   "metadata": {
    "tags": []
   },
   "outputs": [
    {
     "name": "stderr",
     "output_type": "stream",
     "text": [
      "IOPub data rate exceeded.\n",
      "The Jupyter server will temporarily stop sending output\n",
      "to the client in order to avoid crashing it.\n",
      "To change this limit, set the config variable\n",
      "`--ServerApp.iopub_data_rate_limit`.\n",
      "\n",
      "Current values:\n",
      "ServerApp.iopub_data_rate_limit=1000000.0 (bytes/sec)\n",
      "ServerApp.rate_limit_window=3.0 (secs)\n",
      "\n"
     ]
    }
   ],
   "source": [
    "sales=[]\n",
    "\n",
    "with open(sales_filepath, \"r\") as csv_sales_file:\n",
    "    csv_sales_reader=csv.reader(csv_sales_file, delimiter=',')\n",
    "    csv_header = next(csv_sales_reader)\n",
    "    \n",
    "    for line in csv_sales_reader:\n",
    "        sales.append(line)\n",
    "        \n",
    "print(sales)\n",
    "        "
   ]
  },
  {
   "cell_type": "code",
   "execution_count": 4,
   "id": "6cb1aa09-ad02-420a-955b-d55971babad0",
   "metadata": {},
   "outputs": [],
   "source": [
    "report={}"
   ]
  },
  {
   "cell_type": "code",
   "execution_count": 22,
   "id": "27cc3ca0-0873-4b8a-849c-fae06e678fd6",
   "metadata": {
    "tags": []
   },
   "outputs": [
    {
     "ename": "IndentationError",
     "evalue": "unexpected indent (3260061506.py, line 20)",
     "output_type": "error",
     "traceback": [
      "\u001b[1;36m  Cell \u001b[1;32mIn[22], line 20\u001b[1;36m\u001b[0m\n\u001b[1;33m    for row in menu:\u001b[0m\n\u001b[1;37m    ^\u001b[0m\n\u001b[1;31mIndentationError\u001b[0m\u001b[1;31m:\u001b[0m unexpected indent\n"
     ]
    }
   ],
   "source": [
    "for items in sales:\n",
    "    quantity=items[3]\n",
    "    sales_items=items[4]\n",
    "    \n",
    "    \n",
    "   \n",
    "    if sales_items!=report.keys():  \n",
    "        report[sales_items]= {\n",
    "\"01-count\": 0,\n",
    "\"02-revenue\": 0,\n",
    "\"03-cogs\": 0,\n",
    "\"04-profit\": 0,\n",
    "}\n",
    "   # in the above dictionary menu-item is the key.     \n",
    "        \n",
    "print(report)\n",
    "    \n",
    "revenue={}\n",
    " \n",
    "    for row in menu:\n",
    "        item=row[0]\n",
    "        price=row[3]\n",
    "        cost=row[4]\n",
    "        \n",
    "        if sales_items==items:\n",
    "            items_quantity=quantity\n",
    "            item_price=price\n",
    "            item_cost=cost\n",
    "    \n",
    " # If the sales_item in sales is equal to the item in menu, capture the quantity from the sales data \n",
    "#and the price and cost from the menu data to calculate the profit for each item.\n",
    "   \n",
    "\n",
    "    \n",
    "    "
   ]
  },
  {
   "cell_type": "code",
   "execution_count": null,
   "id": "42a801d5-cdd5-41cb-b511-0e6bbb625b7c",
   "metadata": {},
   "outputs": [],
   "source": []
  }
 ],
 "metadata": {
  "kernelspec": {
   "display_name": "Python 3 (ipykernel)",
   "language": "python",
   "name": "python3"
  },
  "language_info": {
   "codemirror_mode": {
    "name": "ipython",
    "version": 3
   },
   "file_extension": ".py",
   "mimetype": "text/x-python",
   "name": "python",
   "nbconvert_exporter": "python",
   "pygments_lexer": "ipython3",
   "version": "3.10.13"
  }
 },
 "nbformat": 4,
 "nbformat_minor": 5
}
