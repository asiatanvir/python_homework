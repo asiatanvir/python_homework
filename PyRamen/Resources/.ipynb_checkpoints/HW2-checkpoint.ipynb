{
 "cells": [
  {
   "cell_type": "code",
   "execution_count": 1,
   "id": "cbb4f294-92cf-427e-9bfc-8b99594ae2d4",
   "metadata": {
    "tags": []
   },
   "outputs": [],
   "source": [
    "from pathlib import Path\n",
    "import csv"
   ]
  },
  {
   "cell_type": "code",
   "execution_count": 2,
   "id": "d88ef6c4-931b-437c-afae-b91cf019fd54",
   "metadata": {
    "tags": []
   },
   "outputs": [],
   "source": [
    "csv_sales_path=Path(\"../Resources/sales_data.csv\")\n",
    "csv_menu_path=Path(\"../Resources/menu_data.csv\")"
   ]
  },
  {
   "cell_type": "code",
   "execution_count": 3,
   "id": "251522e8-d10a-4367-b717-060804b6b2ba",
   "metadata": {
    "tags": []
   },
   "outputs": [
    {
     "name": "stdout",
     "output_type": "stream",
     "text": [
      "['Line_Item_ID', 'Date', 'Credit_Card_Number', 'Quantity', 'Menu_Item']\n",
      "['item', 'category', 'description', 'price', 'cost']\n"
     ]
    }
   ],
   "source": [
    "menu=[]\n",
    "sales=[]\n",
    "\n",
    "with open(csv_sales_path, 'r') as csv_sales_file:\n",
    "    csv_sales_reader=csv.reader(csv_sales_file , delimiter=',')\n",
    "    csv_sales_header=next(csv_sales_reader)\n",
    "    print(csv_sales_header)\n",
    "    \n",
    "    for row in csv_sales_reader:\n",
    "         sales.append(row)\n",
    "    \n",
    "\n",
    "with open(csv_menu_path, 'r') as csv_menu_file:\n",
    "    csv_menu_reader=csv.reader(csv_menu_file , delimiter=',')\n",
    "    csv_menu_header=next(csv_menu_reader)\n",
    "    print(csv_menu_header)\n",
    "    \n",
    "    for line in csv_menu_reader:\n",
    "        menu.append(line)\n"
   ]
  },
  {
   "cell_type": "code",
   "execution_count": 4,
   "id": "646a3a55-4941-4095-b7b9-4fd3d87a7a18",
   "metadata": {
    "tags": []
   },
   "outputs": [],
   "source": [
    "report={}"
   ]
  },
  {
   "cell_type": "code",
   "execution_count": 5,
   "id": "831bfd85-a48a-44de-9306-076138728032",
   "metadata": {
    "tags": []
   },
   "outputs": [],
   "source": []
  },
  {
   "cell_type": "code",
   "execution_count": 6,
   "id": "a2229f55-f51b-42d0-89bf-be5a20f7a1c9",
   "metadata": {
    "tags": []
   },
   "outputs": [
    {
     "name": "stdout",
     "output_type": "stream",
     "text": [
      "{'spicy miso ramen': {'01-count': 9238, '02-revenue': 110856.0, '03-cogs': 46190.0, '04-profit': 64666.0}, 'tori paitan ramen': {'01-count': 9156, '02-revenue': 119028.0, '03-cogs': 54936.0, '04-profit': 64092.0}, 'truffle butter ramen': {'01-count': 8982, '02-revenue': 125748.0, '03-cogs': 62874.0, '04-profit': 62874.0}, 'tonkotsu ramen': {'01-count': 9288, '02-revenue': 120744.0, '03-cogs': 55728.0, '04-profit': 65016.0}, 'vegetarian spicy miso': {'01-count': 9216, '02-revenue': 110592.0, '03-cogs': 46080.0, '04-profit': 64512.0}, 'shio ramen': {'01-count': 9180, '02-revenue': 100980.0, '03-cogs': 45900.0, '04-profit': 55080.0}, 'miso crab ramen': {'01-count': 8890, '02-revenue': 106680.0, '03-cogs': 53340.0, '04-profit': 53340.0}, 'nagomi shoyu': {'01-count': 9132, '02-revenue': 100452.0, '03-cogs': 45660.0, '04-profit': 54792.0}, 'soft-shell miso crab ramen': {'01-count': 9130, '02-revenue': 127820.0, '03-cogs': 63910.0, '04-profit': 63910.0}, 'burnt garlic tonkotsu ramen': {'01-count': 9070, '02-revenue': 126980.0, '03-cogs': 54420.0, '04-profit': 72560.0}, 'vegetarian curry + king trumpet mushroom ramen': {'01-count': 8824, '02-revenue': 114712.0, '03-cogs': 61768.0, '04-profit': 52944.0}}\n"
     ]
    }
   ],
   "source": [
    "\n",
    "for list in sales:\n",
    "    \n",
    "    quantity=int(list[3])\n",
    "    sales_item=list[4]\n",
    "\n",
    "    if sales_item not in report.keys():\n",
    "        report[sales_item]= {\n",
    "            \"01-count\": 0,\n",
    "            \"02-revenue\": 0,\n",
    "            \"03-cogs\": 0,\n",
    "            \"04-profit\": 0,\n",
    "        }\n",
    "    \n",
    "    for fooditem in menu:\n",
    "     # For every row in our sales data, loop over the menu records to determine a match\n",
    "        \n",
    "        # Item,Category,Description,Price,Cost\n",
    "        # @TODO: Initialize menu data variables\n",
    "        item = fooditem[0]\n",
    "        category = fooditem[1]\n",
    "        description = fooditem[2]\n",
    "        price = float(fooditem[3])\n",
    "        cost = float(fooditem[4])\n",
    "\n",
    "        # @TODO: Calculate profit of each item in the menu data\n",
    "        profit = price - cost \n",
    "        \n",
    "        # @TODO: If the item value in our sales data is equal to the any of the items in the menu, then begin tracking metrics for that item\n",
    "        if (sales_item == item):\n",
    "        \n",
    "            # @TODO: Print out matching menu data\n",
    "            # print(fooditem)\n",
    "            \n",
    "            # @TODO: Cumulatively add up the metrics for each item key\n",
    "            report[sales_item][\"01-count\"] += quantity\n",
    "            report[sales_item][\"02-revenue\"] += price * quantity\n",
    "            report[sales_item][\"03-cogs\"] += cost * quantity\n",
    "            report[sales_item][\"04-profit\"] += profit * quantity\n",
    "\n",
    "\n",
    "       \n",
    "            \n",
    "            \n",
    "\n",
    "print(report)                  \n",
    "        \n",
    "\n",
    "\n",
    "#     If the sales_item in sales is equal to the item in menu, capture the quantity from the sales data \n",
    "#     and the price and cost from the menu data to calculate the profit for each item.\n",
    "\n",
    "# Cumulatively add the values to the corresponding metrics in the report like so:\n",
    "\n",
    "# report[sales_item][\"01-count\"] += quantity\n",
    "# report[sales_item][\"02-revenue\"] += price * quantity\n",
    "# report[sales_item][\"03-cogs\"] += cost * quantity\n",
    "# report[sales_item][\"04-profit\"] += profit * quantity\n",
    "    "
   ]
  },
  {
   "cell_type": "code",
   "execution_count": null,
   "id": "16058b4b-a349-4061-a965-78775872878b",
   "metadata": {
    "tags": []
   },
   "outputs": [],
   "source": []
  },
  {
   "cell_type": "code",
   "execution_count": null,
   "id": "eb8858b4-44e8-4c67-accd-14379783b2e6",
   "metadata": {},
   "outputs": [],
   "source": []
  }
 ],
 "metadata": {
  "kernelspec": {
   "display_name": "Python 3 (ipykernel)",
   "language": "python",
   "name": "python3"
  },
  "language_info": {
   "codemirror_mode": {
    "name": "ipython",
    "version": 3
   },
   "file_extension": ".py",
   "mimetype": "text/x-python",
   "name": "python",
   "nbconvert_exporter": "python",
   "pygments_lexer": "ipython3",
   "version": "3.10.13"
  }
 },
 "nbformat": 4,
 "nbformat_minor": 5
}
