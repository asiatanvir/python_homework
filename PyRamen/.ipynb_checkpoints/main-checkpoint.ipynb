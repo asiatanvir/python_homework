{
 "cells": [
  {
   "cell_type": "code",
   "execution_count": 1,
   "id": "9e59780b-9b23-40a7-85c2-b5f746161edf",
   "metadata": {
    "tags": []
   },
   "outputs": [],
   "source": [
    "from pathlib import Path\n",
    "import csv\n"
   ]
  },
  {
   "cell_type": "code",
   "execution_count": 2,
   "id": "8eb2e43d-3b2d-4f22-b4a0-42cf39b20841",
   "metadata": {
    "tags": []
   },
   "outputs": [],
   "source": [
    "# Set file paths for menu_data.csv and sales_data.csv\n",
    "csv_sales_path=Path(\"../PyRamen/Resources/sales_data.csv\")\n",
    "csv_menu_path=Path(\"../PyRamen/Resources/menu_data.csv\")"
   ]
  },
  {
   "cell_type": "code",
   "execution_count": 14,
   "id": "3f86c704-405b-423a-b870-0afec95f6490",
   "metadata": {
    "tags": []
   },
   "outputs": [],
   "source": [
    "# initialize empty list menu & sales to append data from csv resource files\n",
    "menu=[]\n",
    "sales=[]\n",
    "\n",
    "# read and append data into respective lists\n",
    "with open(csv_sales_path, 'r') as csv_sales_file:\n",
    "    csv_sales_reader=csv.reader(csv_sales_file , delimiter=',')\n",
    "    csv_sales_header=next(csv_sales_reader)\n",
    "   \n",
    "    for row in csv_sales_reader:\n",
    "         sales.append(row)\n",
    "    \n",
    "\n",
    "with open(csv_menu_path, 'r') as csv_menu_file:\n",
    "    csv_menu_reader=csv.reader(csv_menu_file , delimiter=',')\n",
    "    csv_menu_header=next(csv_menu_reader)\n",
    "    \n",
    "    for line in csv_menu_reader:\n",
    "        menu.append(line)"
   ]
  },
  {
   "cell_type": "code",
   "execution_count": 16,
   "id": "cac86389-0f47-45f4-8067-b6d86b5e62e5",
   "metadata": {
    "tags": []
   },
   "outputs": [],
   "source": [
    "# Initialize empty dictionary to hold aggreagre per product future results\n",
    "report={}\n",
    "\n",
    "# iterate through sales list \n",
    "\n",
    "for row in sales: \n",
    "\n",
    "    # Initialize sales data variables\n",
    "    line_item_id = row[0]\n",
    "    date = row[1]\n",
    "    credit_card_number = row[2]\n",
    "    quantity = int(row[3])\n",
    "    menu_item = row[4]\n",
    "\n",
    "   \n",
    "    # If the item value not in the report, add it as a new entry\n",
    "    if menu_item not in report.keys():\n",
    "        report[menu_item] = {\n",
    "            \"01-count\": 0,\n",
    "            \"02-revenue\": 0,\n",
    "            \"03-cogs\": 0,\n",
    "            \"04-profit\": 0,\n",
    "        }\n",
    "        \n",
    "    # loop over the menu list to determine a match with sales\n",
    "\n",
    "    for fooditem in menu:\n",
    "    \n",
    "        item = fooditem[0]\n",
    "        category = fooditem[1]\n",
    "        description = fooditem[2]\n",
    "        price = float(fooditem[3])\n",
    "        cost = float(fooditem[4])\n",
    "\n",
    "        #  Calculate profit of each item in the menu data\n",
    "        profit = price - cost \n",
    "        \n",
    "        #  If the item value in sales data is equal to the any of the items in the menu, then begin tracking metrics for that item\n",
    "        \n",
    "        if (menu_item == item):\n",
    "        \n",
    "            # Cumulatively add up the metrics for each item key\n",
    "            report[menu_item][\"01-count\"] += quantity\n",
    "            report[menu_item][\"02-revenue\"] += price * quantity\n",
    "            report[menu_item][\"03-cogs\"] += cost * quantity\n",
    "            report[menu_item][\"04-profit\"] += (price * quantity)-(cost * quantity)\n",
    "\n",
    "# export output in a text file\n",
    "output_path=Path(\"PyRamen_output.text\")\n",
    "\n",
    "with open(output_path, \"w\") as output_file:\n",
    "    output_file.write(\" PyRamen Product Analysis\\n\")\n",
    "    output_file.write(\"-----------------------------\\n\")\n",
    "    \n",
    "    for key,items in report.items():\n",
    "        output_file.write(f\"{key},{items}\\n\")\n",
    "    \n",
    "\n",
    "\n",
    "    "
   ]
  },
  {
   "cell_type": "code",
   "execution_count": null,
   "id": "1543f645-8dd6-4c48-9556-153db910d6d7",
   "metadata": {},
   "outputs": [],
   "source": []
  }
 ],
 "metadata": {
  "kernelspec": {
   "display_name": "Python 3 (ipykernel)",
   "language": "python",
   "name": "python3"
  },
  "language_info": {
   "codemirror_mode": {
    "name": "ipython",
    "version": 3
   },
   "file_extension": ".py",
   "mimetype": "text/x-python",
   "name": "python",
   "nbconvert_exporter": "python",
   "pygments_lexer": "ipython3",
   "version": "3.10.13"
  }
 },
 "nbformat": 4,
 "nbformat_minor": 5
}
